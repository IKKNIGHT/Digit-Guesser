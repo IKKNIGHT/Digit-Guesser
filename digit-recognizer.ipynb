{
 "cells": [
  {
   "cell_type": "code",
   "execution_count": 1,
   "id": "8cd8978a",
   "metadata": {
    "_cell_guid": "b1076dfc-b9ad-4769-8c92-a6c4dae69d19",
    "_uuid": "8f2839f25d086af736a60e9eeb907d3b93b6e0e5",
    "execution": {
     "iopub.execute_input": "2025-06-22T21:12:54.987057Z",
     "iopub.status.busy": "2025-06-22T21:12:54.986703Z",
     "iopub.status.idle": "2025-06-22T21:13:00.465584Z",
     "shell.execute_reply": "2025-06-22T21:13:00.464785Z"
    },
    "papermill": {
     "duration": 5.484694,
     "end_time": "2025-06-22T21:13:00.467302",
     "exception": false,
     "start_time": "2025-06-22T21:12:54.982608",
     "status": "completed"
    },
    "tags": []
   },
   "outputs": [],
   "source": [
    "import numpy as np\n",
    "import pandas as pd\n",
    "from matplotlib import pyplot as plt\n",
    "\n",
    "data = pd.read_csv('/kaggle/input/digit-recognizer/train.csv')"
   ]
  },
  {
   "cell_type": "code",
   "execution_count": 2,
   "id": "76a0cf28",
   "metadata": {
    "execution": {
     "iopub.execute_input": "2025-06-22T21:13:00.473863Z",
     "iopub.status.busy": "2025-06-22T21:13:00.473543Z",
     "iopub.status.idle": "2025-06-22T21:13:01.294852Z",
     "shell.execute_reply": "2025-06-22T21:13:01.294068Z"
    },
    "papermill": {
     "duration": 0.826281,
     "end_time": "2025-06-22T21:13:01.296589",
     "exception": false,
     "start_time": "2025-06-22T21:13:00.470308",
     "status": "completed"
    },
    "tags": []
   },
   "outputs": [],
   "source": [
    "data = np.array(data)\n",
    "m, n = data.shape\n",
    "np.random.shuffle(data) # shuffle before splitting into dev and training sets\n",
    "\n",
    "data_dev = data[0:1000].T\n",
    "Y_dev = data_dev[0]\n",
    "X_dev = data_dev[1:n]\n",
    "X_dev = X_dev / 255.\n",
    "\n",
    "data_train = data[1000:m].T\n",
    "Y_train = data_train[0]\n",
    "X_train = data_train[1:n]\n",
    "X_train = X_train / 255.\n",
    "_,m_train = X_train.shape"
   ]
  },
  {
   "cell_type": "code",
   "execution_count": 3,
   "id": "1d4dda20",
   "metadata": {
    "execution": {
     "iopub.execute_input": "2025-06-22T21:13:01.303442Z",
     "iopub.status.busy": "2025-06-22T21:13:01.303141Z",
     "iopub.status.idle": "2025-06-22T21:13:01.309510Z",
     "shell.execute_reply": "2025-06-22T21:13:01.308771Z"
    },
    "papermill": {
     "duration": 0.011378,
     "end_time": "2025-06-22T21:13:01.310928",
     "exception": false,
     "start_time": "2025-06-22T21:13:01.299550",
     "status": "completed"
    },
    "tags": []
   },
   "outputs": [
    {
     "data": {
      "text/plain": [
       "array([2, 9, 4, ..., 9, 2, 7])"
      ]
     },
     "execution_count": 3,
     "metadata": {},
     "output_type": "execute_result"
    }
   ],
   "source": [
    "Y_train"
   ]
  },
  {
   "cell_type": "code",
   "execution_count": 4,
   "id": "d2a3dcca",
   "metadata": {
    "execution": {
     "iopub.execute_input": "2025-06-22T21:13:01.317241Z",
     "iopub.status.busy": "2025-06-22T21:13:01.316586Z",
     "iopub.status.idle": "2025-06-22T21:13:01.326579Z",
     "shell.execute_reply": "2025-06-22T21:13:01.325512Z"
    },
    "papermill": {
     "duration": 0.01465,
     "end_time": "2025-06-22T21:13:01.328004",
     "exception": false,
     "start_time": "2025-06-22T21:13:01.313354",
     "status": "completed"
    },
    "tags": []
   },
   "outputs": [],
   "source": [
    "def init_params():\n",
    "    W1 = np.random.rand(10, 784) - 0.5\n",
    "    b1 = np.random.rand(10, 1) - 0.5\n",
    "    W2 = np.random.rand(10, 10) - 0.5\n",
    "    b2 = np.random.rand(10, 1) - 0.5\n",
    "    return W1, b1, W2, b2\n",
    "\n",
    "def ReLU(Z):\n",
    "    return np.maximum(Z, 0)\n",
    "\n",
    "def softmax(Z):\n",
    "    A = np.exp(Z) / sum(np.exp(Z))\n",
    "    return A\n",
    "    \n",
    "def forward_prop(W1, b1, W2, b2, X):\n",
    "    Z1 = W1.dot(X) + b1\n",
    "    A1 = ReLU(Z1)\n",
    "    Z2 = W2.dot(A1) + b2\n",
    "    A2 = softmax(Z2)\n",
    "    return Z1, A1, Z2, A2\n",
    "\n",
    "def ReLU_deriv(Z):\n",
    "    return Z > 0\n",
    "\n",
    "def one_hot(Y):\n",
    "    one_hot_Y = np.zeros((Y.size, Y.max() + 1))\n",
    "    one_hot_Y[np.arange(Y.size), Y] = 1\n",
    "    one_hot_Y = one_hot_Y.T\n",
    "    return one_hot_Y\n",
    "\n",
    "def backward_prop(Z1, A1, Z2, A2, W1, W2, X, Y):\n",
    "    one_hot_Y = one_hot(Y)\n",
    "    dZ2 = A2 - one_hot_Y\n",
    "    dW2 = 1 / m * dZ2.dot(A1.T)\n",
    "    db2 = 1 / m * np.sum(dZ2)\n",
    "    dZ1 = W2.T.dot(dZ2) * ReLU_deriv(Z1)\n",
    "    dW1 = 1 / m * dZ1.dot(X.T)\n",
    "    db1 = 1 / m * np.sum(dZ1)\n",
    "    return dW1, db1, dW2, db2\n",
    "\n",
    "def update_params(W1, b1, W2, b2, dW1, db1, dW2, db2, alpha):\n",
    "    W1 = W1 - alpha * dW1\n",
    "    b1 = b1 - alpha * db1    \n",
    "    W2 = W2 - alpha * dW2  \n",
    "    b2 = b2 - alpha * db2    \n",
    "    return W1, b1, W2, b2"
   ]
  },
  {
   "cell_type": "code",
   "execution_count": 5,
   "id": "807352ec",
   "metadata": {
    "execution": {
     "iopub.execute_input": "2025-06-22T21:13:01.333952Z",
     "iopub.status.busy": "2025-06-22T21:13:01.333594Z",
     "iopub.status.idle": "2025-06-22T21:13:01.340537Z",
     "shell.execute_reply": "2025-06-22T21:13:01.339800Z"
    },
    "papermill": {
     "duration": 0.011464,
     "end_time": "2025-06-22T21:13:01.341928",
     "exception": false,
     "start_time": "2025-06-22T21:13:01.330464",
     "status": "completed"
    },
    "tags": []
   },
   "outputs": [],
   "source": [
    "def get_predictions(A2):\n",
    "    return np.argmax(A2, 0)\n",
    "\n",
    "def get_accuracy(predictions, Y):\n",
    "    print(predictions, Y)\n",
    "    return np.sum(predictions == Y) / Y.size\n",
    "\n",
    "def gradient_descent(X, Y, alpha, iterations):\n",
    "    W1, b1, W2, b2 = init_params()\n",
    "    for i in range(iterations):\n",
    "        Z1, A1, Z2, A2 = forward_prop(W1, b1, W2, b2, X)\n",
    "        dW1, db1, dW2, db2 = backward_prop(Z1, A1, Z2, A2, W1, W2, X, Y)\n",
    "        W1, b1, W2, b2 = update_params(W1, b1, W2, b2, dW1, db1, dW2, db2, alpha)\n",
    "        if i % 10 == 0:\n",
    "            print(\"Iteration: \", i)\n",
    "            predictions = get_predictions(A2)\n",
    "            print(get_accuracy(predictions, Y))\n",
    "    return W1, b1, W2, b2"
   ]
  },
  {
   "cell_type": "code",
   "execution_count": 6,
   "id": "30315575",
   "metadata": {
    "execution": {
     "iopub.execute_input": "2025-06-22T21:13:01.347580Z",
     "iopub.status.busy": "2025-06-22T21:13:01.347322Z",
     "iopub.status.idle": "2025-06-22T21:14:16.233015Z",
     "shell.execute_reply": "2025-06-22T21:14:16.232143Z"
    },
    "papermill": {
     "duration": 74.890401,
     "end_time": "2025-06-22T21:14:16.234699",
     "exception": false,
     "start_time": "2025-06-22T21:13:01.344298",
     "status": "completed"
    },
    "tags": []
   },
   "outputs": [
    {
     "name": "stdout",
     "output_type": "stream",
     "text": [
      "Iteration:  0\n",
      "[5 4 0 ... 5 5 3] [2 9 4 ... 9 2 7]\n",
      "0.1480731707317073\n",
      "Iteration:  10\n",
      "[2 4 0 ... 5 2 7] [2 9 4 ... 9 2 7]\n",
      "0.24660975609756097\n",
      "Iteration:  20\n",
      "[2 4 0 ... 0 2 7] [2 9 4 ... 9 2 7]\n",
      "0.33182926829268294\n",
      "Iteration:  30\n",
      "[2 4 4 ... 0 2 7] [2 9 4 ... 9 2 7]\n",
      "0.4082682926829268\n",
      "Iteration:  40\n",
      "[2 4 4 ... 4 2 7] [2 9 4 ... 9 2 7]\n",
      "0.49634146341463414\n",
      "Iteration:  50\n",
      "[2 4 4 ... 9 2 7] [2 9 4 ... 9 2 7]\n",
      "0.5676829268292682\n",
      "Iteration:  60\n",
      "[2 4 4 ... 9 2 7] [2 9 4 ... 9 2 7]\n",
      "0.6131463414634146\n",
      "Iteration:  70\n",
      "[2 4 4 ... 4 2 7] [2 9 4 ... 9 2 7]\n",
      "0.6460975609756098\n",
      "Iteration:  80\n",
      "[2 4 4 ... 4 2 7] [2 9 4 ... 9 2 7]\n",
      "0.6717317073170732\n",
      "Iteration:  90\n",
      "[2 4 4 ... 4 2 7] [2 9 4 ... 9 2 7]\n",
      "0.6916829268292682\n",
      "Iteration:  100\n",
      "[2 4 4 ... 4 2 7] [2 9 4 ... 9 2 7]\n",
      "0.7090731707317073\n",
      "Iteration:  110\n",
      "[2 4 4 ... 4 2 7] [2 9 4 ... 9 2 7]\n",
      "0.723780487804878\n",
      "Iteration:  120\n",
      "[2 4 4 ... 4 2 7] [2 9 4 ... 9 2 7]\n",
      "0.7354878048780488\n",
      "Iteration:  130\n",
      "[2 9 4 ... 4 2 7] [2 9 4 ... 9 2 7]\n",
      "0.7457560975609756\n",
      "Iteration:  140\n",
      "[2 9 4 ... 4 2 7] [2 9 4 ... 9 2 7]\n",
      "0.7540975609756098\n",
      "Iteration:  150\n",
      "[2 9 4 ... 4 2 7] [2 9 4 ... 9 2 7]\n",
      "0.7620243902439024\n",
      "Iteration:  160\n",
      "[2 9 4 ... 4 2 7] [2 9 4 ... 9 2 7]\n",
      "0.7697804878048781\n",
      "Iteration:  170\n",
      "[2 9 4 ... 4 2 7] [2 9 4 ... 9 2 7]\n",
      "0.7751707317073171\n",
      "Iteration:  180\n",
      "[2 9 4 ... 4 2 7] [2 9 4 ... 9 2 7]\n",
      "0.7804390243902439\n",
      "Iteration:  190\n",
      "[2 9 4 ... 4 2 7] [2 9 4 ... 9 2 7]\n",
      "0.7845365853658537\n",
      "Iteration:  200\n",
      "[2 9 4 ... 4 2 7] [2 9 4 ... 9 2 7]\n",
      "0.7897073170731708\n",
      "Iteration:  210\n",
      "[2 9 4 ... 4 2 7] [2 9 4 ... 9 2 7]\n",
      "0.7940243902439025\n",
      "Iteration:  220\n",
      "[2 9 4 ... 4 2 7] [2 9 4 ... 9 2 7]\n",
      "0.7983658536585366\n",
      "Iteration:  230\n",
      "[2 9 4 ... 4 2 7] [2 9 4 ... 9 2 7]\n",
      "0.8025853658536586\n",
      "Iteration:  240\n",
      "[2 9 4 ... 9 2 7] [2 9 4 ... 9 2 7]\n",
      "0.8059024390243903\n",
      "Iteration:  250\n",
      "[2 9 4 ... 9 2 7] [2 9 4 ... 9 2 7]\n",
      "0.8090975609756098\n",
      "Iteration:  260\n",
      "[2 9 4 ... 9 2 7] [2 9 4 ... 9 2 7]\n",
      "0.8121219512195123\n",
      "Iteration:  270\n",
      "[2 9 4 ... 9 2 7] [2 9 4 ... 9 2 7]\n",
      "0.8148536585365853\n",
      "Iteration:  280\n",
      "[2 9 4 ... 9 2 7] [2 9 4 ... 9 2 7]\n",
      "0.8175853658536585\n",
      "Iteration:  290\n",
      "[2 9 4 ... 9 2 7] [2 9 4 ... 9 2 7]\n",
      "0.8205365853658536\n",
      "Iteration:  300\n",
      "[2 9 4 ... 9 2 7] [2 9 4 ... 9 2 7]\n",
      "0.8234146341463414\n",
      "Iteration:  310\n",
      "[2 9 4 ... 9 2 7] [2 9 4 ... 9 2 7]\n",
      "0.8260243902439024\n",
      "Iteration:  320\n",
      "[2 9 4 ... 9 2 7] [2 9 4 ... 9 2 7]\n",
      "0.828\n",
      "Iteration:  330\n",
      "[2 9 4 ... 9 2 7] [2 9 4 ... 9 2 7]\n",
      "0.8300487804878048\n",
      "Iteration:  340\n",
      "[2 9 4 ... 9 2 7] [2 9 4 ... 9 2 7]\n",
      "0.8322195121951219\n",
      "Iteration:  350\n",
      "[2 9 4 ... 9 2 7] [2 9 4 ... 9 2 7]\n",
      "0.8338292682926829\n",
      "Iteration:  360\n",
      "[2 9 4 ... 9 2 7] [2 9 4 ... 9 2 7]\n",
      "0.8355609756097561\n",
      "Iteration:  370\n",
      "[2 9 4 ... 9 2 7] [2 9 4 ... 9 2 7]\n",
      "0.8368048780487805\n",
      "Iteration:  380\n",
      "[2 9 4 ... 9 2 7] [2 9 4 ... 9 2 7]\n",
      "0.8378292682926829\n",
      "Iteration:  390\n",
      "[2 9 4 ... 9 2 7] [2 9 4 ... 9 2 7]\n",
      "0.8396097560975609\n",
      "Iteration:  400\n",
      "[2 9 4 ... 9 2 7] [2 9 4 ... 9 2 7]\n",
      "0.8411951219512195\n",
      "Iteration:  410\n",
      "[2 9 4 ... 9 2 7] [2 9 4 ... 9 2 7]\n",
      "0.8427560975609756\n",
      "Iteration:  420\n",
      "[2 9 4 ... 9 2 7] [2 9 4 ... 9 2 7]\n",
      "0.8442439024390244\n",
      "Iteration:  430\n",
      "[2 9 4 ... 9 2 7] [2 9 4 ... 9 2 7]\n",
      "0.8455365853658536\n",
      "Iteration:  440\n",
      "[2 9 4 ... 9 2 7] [2 9 4 ... 9 2 7]\n",
      "0.846780487804878\n",
      "Iteration:  450\n",
      "[2 9 4 ... 9 2 7] [2 9 4 ... 9 2 7]\n",
      "0.8480731707317073\n",
      "Iteration:  460\n",
      "[2 9 4 ... 9 2 7] [2 9 4 ... 9 2 7]\n",
      "0.8491219512195122\n",
      "Iteration:  470\n",
      "[2 9 4 ... 9 2 7] [2 9 4 ... 9 2 7]\n",
      "0.8503170731707317\n",
      "Iteration:  480\n",
      "[2 9 4 ... 9 2 7] [2 9 4 ... 9 2 7]\n",
      "0.8514146341463414\n",
      "Iteration:  490\n",
      "[2 9 4 ... 9 2 7] [2 9 4 ... 9 2 7]\n",
      "0.8525121951219512\n",
      "Iteration:  500\n",
      "[2 9 4 ... 9 2 7] [2 9 4 ... 9 2 7]\n",
      "0.854170731707317\n",
      "Iteration:  510\n",
      "[2 9 4 ... 9 2 7] [2 9 4 ... 9 2 7]\n",
      "0.8552926829268293\n",
      "Iteration:  520\n",
      "[2 9 4 ... 9 2 7] [2 9 4 ... 9 2 7]\n",
      "0.8559024390243902\n",
      "Iteration:  530\n",
      "[2 9 4 ... 9 2 7] [2 9 4 ... 9 2 7]\n",
      "0.856780487804878\n",
      "Iteration:  540\n",
      "[2 9 4 ... 9 2 7] [2 9 4 ... 9 2 7]\n",
      "0.857780487804878\n",
      "Iteration:  550\n",
      "[2 9 4 ... 9 2 7] [2 9 4 ... 9 2 7]\n",
      "0.858609756097561\n",
      "Iteration:  560\n",
      "[2 9 4 ... 9 2 7] [2 9 4 ... 9 2 7]\n",
      "0.8596585365853658\n",
      "Iteration:  570\n",
      "[2 9 4 ... 9 2 7] [2 9 4 ... 9 2 7]\n",
      "0.8605121951219512\n",
      "Iteration:  580\n",
      "[2 9 4 ... 9 2 7] [2 9 4 ... 9 2 7]\n",
      "0.8610731707317073\n",
      "Iteration:  590\n",
      "[2 9 4 ... 9 2 7] [2 9 4 ... 9 2 7]\n",
      "0.8620487804878049\n",
      "Iteration:  600\n",
      "[2 9 4 ... 9 2 7] [2 9 4 ... 9 2 7]\n",
      "0.8629512195121951\n",
      "Iteration:  610\n",
      "[2 9 4 ... 9 2 7] [2 9 4 ... 9 2 7]\n",
      "0.8633414634146341\n",
      "Iteration:  620\n",
      "[2 9 4 ... 9 2 7] [2 9 4 ... 9 2 7]\n",
      "0.8638536585365854\n",
      "Iteration:  630\n",
      "[2 9 4 ... 9 2 7] [2 9 4 ... 9 2 7]\n",
      "0.8647560975609756\n",
      "Iteration:  640\n",
      "[2 9 4 ... 9 2 7] [2 9 4 ... 9 2 7]\n",
      "0.8656585365853658\n",
      "Iteration:  650\n",
      "[2 9 4 ... 9 2 7] [2 9 4 ... 9 2 7]\n",
      "0.8660243902439024\n",
      "Iteration:  660\n",
      "[2 9 4 ... 9 2 7] [2 9 4 ... 9 2 7]\n",
      "0.866609756097561\n",
      "Iteration:  670\n",
      "[2 9 4 ... 9 2 7] [2 9 4 ... 9 2 7]\n",
      "0.867\n",
      "Iteration:  680\n",
      "[2 9 4 ... 9 2 7] [2 9 4 ... 9 2 7]\n",
      "0.8676341463414634\n",
      "Iteration:  690\n",
      "[2 9 4 ... 9 2 7] [2 9 4 ... 9 2 7]\n",
      "0.8683414634146341\n",
      "Iteration:  700\n",
      "[2 9 4 ... 9 2 7] [2 9 4 ... 9 2 7]\n",
      "0.8688292682926829\n",
      "Iteration:  710\n",
      "[2 9 4 ... 9 2 7] [2 9 4 ... 9 2 7]\n",
      "0.8695853658536585\n",
      "Iteration:  720\n",
      "[2 9 4 ... 9 2 7] [2 9 4 ... 9 2 7]\n",
      "0.8701951219512195\n",
      "Iteration:  730\n",
      "[2 9 4 ... 9 2 7] [2 9 4 ... 9 2 7]\n",
      "0.870609756097561\n",
      "Iteration:  740\n",
      "[2 9 4 ... 9 2 7] [2 9 4 ... 9 2 7]\n",
      "0.8710731707317073\n",
      "Iteration:  750\n",
      "[2 9 4 ... 9 2 7] [2 9 4 ... 9 2 7]\n",
      "0.8715365853658537\n",
      "Iteration:  760\n",
      "[2 9 4 ... 9 2 7] [2 9 4 ... 9 2 7]\n",
      "0.872219512195122\n",
      "Iteration:  770\n",
      "[2 9 4 ... 9 2 7] [2 9 4 ... 9 2 7]\n",
      "0.8727073170731707\n",
      "Iteration:  780\n",
      "[2 9 4 ... 9 2 7] [2 9 4 ... 9 2 7]\n",
      "0.873219512195122\n",
      "Iteration:  790\n",
      "[2 9 4 ... 9 2 7] [2 9 4 ... 9 2 7]\n",
      "0.8738292682926829\n",
      "Iteration:  800\n",
      "[2 9 4 ... 9 2 7] [2 9 4 ... 9 2 7]\n",
      "0.8741951219512195\n",
      "Iteration:  810\n",
      "[2 9 4 ... 9 2 7] [2 9 4 ... 9 2 7]\n",
      "0.8747073170731707\n",
      "Iteration:  820\n",
      "[2 9 4 ... 9 2 7] [2 9 4 ... 9 2 7]\n",
      "0.8751219512195122\n",
      "Iteration:  830\n",
      "[2 9 4 ... 9 2 7] [2 9 4 ... 9 2 7]\n",
      "0.8754146341463415\n",
      "Iteration:  840\n",
      "[2 9 4 ... 9 2 7] [2 9 4 ... 9 2 7]\n",
      "0.876\n",
      "Iteration:  850\n",
      "[2 9 4 ... 9 2 7] [2 9 4 ... 9 2 7]\n",
      "0.8762926829268293\n",
      "Iteration:  860\n",
      "[2 9 4 ... 9 2 7] [2 9 4 ... 9 2 7]\n",
      "0.876780487804878\n",
      "Iteration:  870\n",
      "[2 9 4 ... 9 2 7] [2 9 4 ... 9 2 7]\n",
      "0.8772439024390244\n",
      "Iteration:  880\n",
      "[2 9 4 ... 9 2 7] [2 9 4 ... 9 2 7]\n",
      "0.8775853658536585\n",
      "Iteration:  890\n",
      "[2 9 4 ... 9 2 7] [2 9 4 ... 9 2 7]\n",
      "0.8781707317073171\n",
      "Iteration:  900\n",
      "[2 9 4 ... 9 2 7] [2 9 4 ... 9 2 7]\n",
      "0.878609756097561\n",
      "Iteration:  910\n",
      "[2 9 4 ... 9 2 7] [2 9 4 ... 9 2 7]\n",
      "0.8788780487804878\n",
      "Iteration:  920\n",
      "[2 9 4 ... 9 2 7] [2 9 4 ... 9 2 7]\n",
      "0.8793170731707317\n",
      "Iteration:  930\n",
      "[2 9 4 ... 9 2 7] [2 9 4 ... 9 2 7]\n",
      "0.8796341463414634\n",
      "Iteration:  940\n",
      "[2 9 4 ... 9 2 7] [2 9 4 ... 9 2 7]\n",
      "0.8800731707317073\n",
      "Iteration:  950\n",
      "[2 9 4 ... 9 2 7] [2 9 4 ... 9 2 7]\n",
      "0.8804146341463415\n",
      "Iteration:  960\n",
      "[2 9 4 ... 9 2 7] [2 9 4 ... 9 2 7]\n",
      "0.8808048780487805\n",
      "Iteration:  970\n",
      "[2 9 4 ... 9 2 7] [2 9 4 ... 9 2 7]\n",
      "0.8811707317073171\n",
      "Iteration:  980\n",
      "[2 9 4 ... 9 2 7] [2 9 4 ... 9 2 7]\n",
      "0.881390243902439\n",
      "Iteration:  990\n",
      "[2 9 4 ... 9 2 7] [2 9 4 ... 9 2 7]\n",
      "0.881780487804878\n"
     ]
    }
   ],
   "source": [
    "W1, b1, W2, b2 = gradient_descent(X_train, Y_train, 0.10, 1000)  # Correct order"
   ]
  },
  {
   "cell_type": "code",
   "execution_count": 7,
   "id": "f8b95fec",
   "metadata": {
    "execution": {
     "iopub.execute_input": "2025-06-22T21:14:16.251232Z",
     "iopub.status.busy": "2025-06-22T21:14:16.250921Z",
     "iopub.status.idle": "2025-06-22T21:14:16.257213Z",
     "shell.execute_reply": "2025-06-22T21:14:16.256223Z"
    },
    "papermill": {
     "duration": 0.016598,
     "end_time": "2025-06-22T21:14:16.258828",
     "exception": false,
     "start_time": "2025-06-22T21:14:16.242230",
     "status": "completed"
    },
    "tags": []
   },
   "outputs": [],
   "source": [
    "def make_predictions(X, W1, b1, W2, b2):\n",
    "    _, _, _, A2 = forward_prop(W1, b1, W2, b2, X)\n",
    "    predictions = get_predictions(A2)\n",
    "    return predictions\n",
    "\n",
    "def test_prediction(index, W1, b1, W2, b2):\n",
    "    current_image = X_train[:, index, None]\n",
    "    prediction = make_predictions(X_train[:, index, None], W1, b1, W2, b2)\n",
    "    label = Y_train[index]\n",
    "    print(\"Prediction: \", prediction)\n",
    "    print(\"Label: \", label)\n",
    "    \n",
    "    current_image = current_image.reshape((28, 28)) * 255\n",
    "    plt.gray()\n",
    "    plt.imshow(current_image, interpolation='nearest')\n",
    "    plt.show()"
   ]
  },
  {
   "cell_type": "code",
   "execution_count": 8,
   "id": "b6ff8a83",
   "metadata": {
    "execution": {
     "iopub.execute_input": "2025-06-22T21:14:16.274372Z",
     "iopub.status.busy": "2025-06-22T21:14:16.273643Z",
     "iopub.status.idle": "2025-06-22T21:14:16.941087Z",
     "shell.execute_reply": "2025-06-22T21:14:16.940267Z"
    },
    "papermill": {
     "duration": 0.676924,
     "end_time": "2025-06-22T21:14:16.942758",
     "exception": false,
     "start_time": "2025-06-22T21:14:16.265834",
     "status": "completed"
    },
    "tags": []
   },
   "outputs": [
    {
     "name": "stdout",
     "output_type": "stream",
     "text": [
      "Prediction:  [2]\n",
      "Label:  2\n"
     ]
    },
    {
     "data": {
      "image/png": "[encoded data removed]",
      "text/plain": [
       "<Figure size 640x480 with 1 Axes>"
      ]
     },
     "metadata": {},
     "output_type": "display_data"
    },
    {
     "name": "stdout",
     "output_type": "stream",
     "text": [
      "Prediction:  [9]\n",
      "Label:  9\n"
     ]
    },
    {
     "data": {
      "image/png": "[encoded data removed]",
      "text/plain": [
       "<Figure size 640x480 with 1 Axes>"
      ]
     },
     "metadata": {},
     "output_type": "display_data"
    },
    {
     "name": "stdout",
     "output_type": "stream",
     "text": [
      "Prediction:  [4]\n",
      "Label:  4\n"
     ]
    },
    {
     "data": {
      "image/png": "[encoded data removed]",
      "text/plain": [
       "<Figure size 640x480 with 1 Axes>"
      ]
     },
     "metadata": {},
     "output_type": "display_data"
    },
    {
     "name": "stdout",
     "output_type": "stream",
     "text": [
      "Prediction:  [6]\n",
      "Label:  6\n"
     ]
    },
    {
     "data": {
      "image/png": "[encoded data removed]",
      "text/plain": [
       "<Figure size 640x480 with 1 Axes>"
      ]
     },
     "metadata": {},
     "output_type": "display_data"
    }
   ],
   "source": [
    "test_prediction(0, W1, b1, W2, b2)\n",
    "test_prediction(1, W1, b1, W2, b2)\n",
    "test_prediction(2, W1, b1, W2, b2)\n",
    "test_prediction(3, W1, b1, W2, b2)"
   ]
  }
 ],
 "metadata": {
  "kaggle": {
   "accelerator": "none",
   "dataSources": [
    {
     "databundleVersionId": 861823,
     "sourceId": 3004,
     "sourceType": "competition"
    }
   ],
   "dockerImageVersionId": 31040,
   "isGpuEnabled": false,
   "isInternetEnabled": false,
   "language": "python",
   "sourceType": "notebook"
  },
  "kernelspec": {
   "display_name": "Python 3",
   "language": "python",
   "name": "python3"
  },
  "language_info": {
   "codemirror_mode": {
    "name": "ipython",
    "version": 3
   },
   "file_extension": ".py",
   "mimetype": "text/x-python",
   "name": "python",
   "nbconvert_exporter": "python",
   "pygments_lexer": "ipython3",
   "version": "3.11.11"
  },
  "papermill": {
   "default_parameters": {},
   "duration": 87.408735,
   "end_time": "2025-06-22T21:14:17.471663",
   "environment_variables": {},
   "exception": null,
   "input_path": "__notebook__.ipynb",
   "output_path": "__notebook__.ipynb",
   "parameters": {},
   "start_time": "2025-06-22T21:12:50.062928",
   "version": "2.6.0"
  }
 },
 "nbformat": 4,
 "nbformat_minor": 5
}
