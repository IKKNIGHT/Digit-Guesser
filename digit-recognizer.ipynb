{
 "cells": [
  {
   "cell_type": "code",
   "execution_count": 1,
   "id": "6b2f1859",
   "metadata": {
    "_cell_guid": "b1076dfc-b9ad-4769-8c92-a6c4dae69d19",
    "_uuid": "8f2839f25d086af736a60e9eeb907d3b93b6e0e5",
    "execution": {
     "iopub.execute_input": "2025-06-22T06:11:40.026552Z",
     "iopub.status.busy": "2025-06-22T06:11:40.026248Z",
     "iopub.status.idle": "2025-06-22T06:11:45.147140Z",
     "shell.execute_reply": "2025-06-22T06:11:45.146165Z"
    },
    "papermill": {
     "duration": 5.126683,
     "end_time": "2025-06-22T06:11:45.148996",
     "exception": false,
     "start_time": "2025-06-22T06:11:40.022313",
     "status": "completed"
    },
    "tags": []
   },
   "outputs": [],
   "source": [
    "import numpy as np\n",
    "import pandas as pd\n",
    "from matplotlib import pyplot as plt\n",
    "\n",
    "data = pd.read_csv('/kaggle/input/digit-recognizer/train.csv')"
   ]
  },
  {
   "cell_type": "code",
   "execution_count": 2,
   "id": "3256fc1b",
   "metadata": {
    "execution": {
     "iopub.execute_input": "2025-06-22T06:11:45.156296Z",
     "iopub.status.busy": "2025-06-22T06:11:45.155600Z",
     "iopub.status.idle": "2025-06-22T06:11:45.961234Z",
     "shell.execute_reply": "2025-06-22T06:11:45.960276Z"
    },
    "papermill": {
     "duration": 0.811018,
     "end_time": "2025-06-22T06:11:45.963282",
     "exception": false,
     "start_time": "2025-06-22T06:11:45.152264",
     "status": "completed"
    },
    "tags": []
   },
   "outputs": [],
   "source": [
    "data = np.array(data)\n",
    "m, n = data.shape\n",
    "np.random.shuffle(data) # shuffle before splitting into dev and training sets\n",
    "\n",
    "data_dev = data[0:1000].T\n",
    "Y_dev = data_dev[0]\n",
    "X_dev = data_dev[1:n]\n",
    "X_dev = X_dev / 255.\n",
    "\n",
    "data_train = data[1000:m].T\n",
    "Y_train = data_train[0]\n",
    "X_train = data_train[1:n]\n",
    "X_train = X_train / 255.\n",
    "_,m_train = X_train.shape"
   ]
  },
  {
   "cell_type": "code",
   "execution_count": 3,
   "id": "b0c214da",
   "metadata": {
    "execution": {
     "iopub.execute_input": "2025-06-22T06:11:45.969592Z",
     "iopub.status.busy": "2025-06-22T06:11:45.969212Z",
     "iopub.status.idle": "2025-06-22T06:11:45.975909Z",
     "shell.execute_reply": "2025-06-22T06:11:45.975060Z"
    },
    "papermill": {
     "duration": 0.011384,
     "end_time": "2025-06-22T06:11:45.977344",
     "exception": false,
     "start_time": "2025-06-22T06:11:45.965960",
     "status": "completed"
    },
    "tags": []
   },
   "outputs": [
    {
     "data": {
      "text/plain": [
       "array([7, 8, 2, ..., 2, 3, 3])"
      ]
     },
     "execution_count": 3,
     "metadata": {},
     "output_type": "execute_result"
    }
   ],
   "source": [
    "Y_train"
   ]
  },
  {
   "cell_type": "code",
   "execution_count": 4,
   "id": "aaeeef87",
   "metadata": {
    "execution": {
     "iopub.execute_input": "2025-06-22T06:11:45.983901Z",
     "iopub.status.busy": "2025-06-22T06:11:45.983173Z",
     "iopub.status.idle": "2025-06-22T06:11:45.992991Z",
     "shell.execute_reply": "2025-06-22T06:11:45.991974Z"
    },
    "papermill": {
     "duration": 0.014703,
     "end_time": "2025-06-22T06:11:45.994493",
     "exception": false,
     "start_time": "2025-06-22T06:11:45.979790",
     "status": "completed"
    },
    "tags": []
   },
   "outputs": [],
   "source": [
    "def init_params():\n",
    "    W1 = np.random.rand(10, 784) - 0.5\n",
    "    b1 = np.random.rand(10, 1) - 0.5\n",
    "    W2 = np.random.rand(10, 10) - 0.5\n",
    "    b2 = np.random.rand(10, 1) - 0.5\n",
    "    return W1, b1, W2, b2\n",
    "\n",
    "def ReLU(Z):\n",
    "    return np.maximum(Z, 0)\n",
    "\n",
    "def softmax(Z):\n",
    "    A = np.exp(Z) / sum(np.exp(Z))\n",
    "    return A\n",
    "    \n",
    "def forward_prop(W1, b1, W2, b2, X):\n",
    "    Z1 = W1.dot(X) + b1\n",
    "    A1 = ReLU(Z1)\n",
    "    Z2 = W2.dot(A1) + b2\n",
    "    A2 = softmax(Z2)\n",
    "    return Z1, A1, Z2, A2\n",
    "\n",
    "def ReLU_deriv(Z):\n",
    "    return Z > 0\n",
    "\n",
    "def one_hot(Y):\n",
    "    one_hot_Y = np.zeros((Y.size, Y.max() + 1))\n",
    "    one_hot_Y[np.arange(Y.size), Y] = 1\n",
    "    one_hot_Y = one_hot_Y.T\n",
    "    return one_hot_Y\n",
    "\n",
    "def backward_prop(Z1, A1, Z2, A2, W1, W2, X, Y):\n",
    "    one_hot_Y = one_hot(Y)\n",
    "    dZ2 = A2 - one_hot_Y\n",
    "    dW2 = 1 / m * dZ2.dot(A1.T)\n",
    "    db2 = 1 / m * np.sum(dZ2)\n",
    "    dZ1 = W2.T.dot(dZ2) * ReLU_deriv(Z1)\n",
    "    dW1 = 1 / m * dZ1.dot(X.T)\n",
    "    db1 = 1 / m * np.sum(dZ1)\n",
    "    return dW1, db1, dW2, db2\n",
    "\n",
    "def update_params(W1, b1, W2, b2, dW1, db1, dW2, db2, alpha):\n",
    "    W1 = W1 - alpha * dW1\n",
    "    b1 = b1 - alpha * db1    \n",
    "    W2 = W2 - alpha * dW2  \n",
    "    b2 = b2 - alpha * db2    \n",
    "    return W1, b1, W2, b2"
   ]
  },
  {
   "cell_type": "code",
   "execution_count": 5,
   "id": "c9bfcb19",
   "metadata": {
    "execution": {
     "iopub.execute_input": "2025-06-22T06:11:46.000484Z",
     "iopub.status.busy": "2025-06-22T06:11:46.000211Z",
     "iopub.status.idle": "2025-06-22T06:11:46.006794Z",
     "shell.execute_reply": "2025-06-22T06:11:46.006045Z"
    },
    "papermill": {
     "duration": 0.011167,
     "end_time": "2025-06-22T06:11:46.008281",
     "exception": false,
     "start_time": "2025-06-22T06:11:45.997114",
     "status": "completed"
    },
    "tags": []
   },
   "outputs": [],
   "source": [
    "def get_predictions(A2):\n",
    "    return np.argmax(A2, 0)\n",
    "\n",
    "def get_accuracy(predictions, Y):\n",
    "    print(predictions, Y)\n",
    "    return np.sum(predictions == Y) / Y.size\n",
    "\n",
    "def gradient_descent(X, Y, alpha, iterations):\n",
    "    W1, b1, W2, b2 = init_params()\n",
    "    for i in range(iterations):\n",
    "        Z1, A1, Z2, A2 = forward_prop(W1, b1, W2, b2, X)\n",
    "        dW1, db1, dW2, db2 = backward_prop(Z1, A1, Z2, A2, W1, W2, X, Y)\n",
    "        W1, b1, W2, b2 = update_params(W1, b1, W2, b2, dW1, db1, dW2, db2, alpha)\n",
    "        if i % 10 == 0:\n",
    "            print(\"Iteration: \", i)\n",
    "            predictions = get_predictions(A2)\n",
    "            print(get_accuracy(predictions, Y))\n",
    "    return W1, b1, W2, b2"
   ]
  },
  {
   "cell_type": "code",
   "execution_count": 6,
   "id": "704fa5ef",
   "metadata": {
    "execution": {
     "iopub.execute_input": "2025-06-22T06:11:46.014016Z",
     "iopub.status.busy": "2025-06-22T06:11:46.013689Z",
     "iopub.status.idle": "2025-06-22T06:12:21.280820Z",
     "shell.execute_reply": "2025-06-22T06:12:21.280043Z"
    },
    "papermill": {
     "duration": 35.271899,
     "end_time": "2025-06-22T06:12:21.282624",
     "exception": false,
     "start_time": "2025-06-22T06:11:46.010725",
     "status": "completed"
    },
    "tags": []
   },
   "outputs": [
    {
     "name": "stdout",
     "output_type": "stream",
     "text": [
      "Iteration:  0\n",
      "[0 2 2 ... 0 2 0] [7 8 2 ... 2 3 3]\n",
      "0.07414634146341463\n",
      "Iteration:  10\n",
      "[7 9 8 ... 6 2 7] [7 8 2 ... 2 3 3]\n",
      "0.16553658536585367\n",
      "Iteration:  20\n",
      "[7 9 8 ... 6 3 8] [7 8 2 ... 2 3 3]\n",
      "0.23382926829268294\n",
      "Iteration:  30\n",
      "[7 9 8 ... 6 3 8] [7 8 2 ... 2 3 3]\n",
      "0.28229268292682924\n",
      "Iteration:  40\n",
      "[7 9 8 ... 6 3 8] [7 8 2 ... 2 3 3]\n",
      "0.3285365853658537\n",
      "Iteration:  50\n",
      "[7 2 8 ... 6 3 8] [7 8 2 ... 2 3 3]\n",
      "0.38109756097560976\n",
      "Iteration:  60\n",
      "[7 2 8 ... 1 3 8] [7 8 2 ... 2 3 3]\n",
      "0.4338780487804878\n",
      "Iteration:  70\n",
      "[7 9 7 ... 1 3 8] [7 8 2 ... 2 3 3]\n",
      "0.4814634146341463\n",
      "Iteration:  80\n",
      "[7 4 7 ... 1 3 8] [7 8 2 ... 2 3 3]\n",
      "0.5281707317073171\n",
      "Iteration:  90\n",
      "[7 9 9 ... 2 3 8] [7 8 2 ... 2 3 3]\n",
      "0.5658292682926829\n",
      "Iteration:  100\n",
      "[7 9 9 ... 2 3 8] [7 8 2 ... 2 3 3]\n",
      "0.5962195121951219\n",
      "Iteration:  110\n",
      "[7 9 9 ... 2 3 8] [7 8 2 ... 2 3 3]\n",
      "0.6204390243902439\n",
      "Iteration:  120\n",
      "[7 9 9 ... 2 3 8] [7 8 2 ... 2 3 3]\n",
      "0.641609756097561\n",
      "Iteration:  130\n",
      "[7 9 9 ... 2 3 8] [7 8 2 ... 2 3 3]\n",
      "0.6595365853658537\n",
      "Iteration:  140\n",
      "[7 9 9 ... 2 3 8] [7 8 2 ... 2 3 3]\n",
      "0.6765853658536586\n",
      "Iteration:  150\n",
      "[7 4 9 ... 2 3 8] [7 8 2 ... 2 3 3]\n",
      "0.6911219512195121\n",
      "Iteration:  160\n",
      "[7 4 9 ... 2 3 8] [7 8 2 ... 2 3 3]\n",
      "0.7024390243902439\n",
      "Iteration:  170\n",
      "[7 4 9 ... 2 3 5] [7 8 2 ... 2 3 3]\n",
      "0.7125121951219512\n",
      "Iteration:  180\n",
      "[7 4 9 ... 2 3 3] [7 8 2 ... 2 3 3]\n",
      "0.7224634146341463\n",
      "Iteration:  190\n",
      "[7 4 9 ... 2 3 3] [7 8 2 ... 2 3 3]\n",
      "0.7309024390243902\n",
      "Iteration:  200\n",
      "[7 4 9 ... 2 3 3] [7 8 2 ... 2 3 3]\n",
      "0.7388292682926829\n",
      "Iteration:  210\n",
      "[7 4 9 ... 2 3 3] [7 8 2 ... 2 3 3]\n",
      "0.7463658536585366\n",
      "Iteration:  220\n",
      "[7 4 9 ... 2 3 3] [7 8 2 ... 2 3 3]\n",
      "0.7521951219512195\n",
      "Iteration:  230\n",
      "[7 4 9 ... 2 3 3] [7 8 2 ... 2 3 3]\n",
      "0.7578536585365854\n",
      "Iteration:  240\n",
      "[7 4 9 ... 2 3 3] [7 8 2 ... 2 3 3]\n",
      "0.7644634146341464\n",
      "Iteration:  250\n",
      "[7 4 9 ... 2 3 3] [7 8 2 ... 2 3 3]\n",
      "0.7697073170731707\n",
      "Iteration:  260\n",
      "[7 4 9 ... 2 3 3] [7 8 2 ... 2 3 3]\n",
      "0.7747317073170732\n",
      "Iteration:  270\n",
      "[7 4 9 ... 2 3 3] [7 8 2 ... 2 3 3]\n",
      "0.779\n",
      "Iteration:  280\n",
      "[7 4 9 ... 2 3 3] [7 8 2 ... 2 3 3]\n",
      "0.7837804878048781\n",
      "Iteration:  290\n",
      "[7 4 9 ... 2 3 3] [7 8 2 ... 2 3 3]\n",
      "0.7880975609756098\n",
      "Iteration:  300\n",
      "[7 4 9 ... 2 3 3] [7 8 2 ... 2 3 3]\n",
      "0.7922926829268293\n",
      "Iteration:  310\n",
      "[7 4 9 ... 2 3 3] [7 8 2 ... 2 3 3]\n",
      "0.7962682926829269\n",
      "Iteration:  320\n",
      "[7 4 9 ... 2 3 3] [7 8 2 ... 2 3 3]\n",
      "0.8004146341463415\n",
      "Iteration:  330\n",
      "[7 4 9 ... 2 3 3] [7 8 2 ... 2 3 3]\n",
      "0.8038048780487805\n",
      "Iteration:  340\n",
      "[7 4 9 ... 2 3 3] [7 8 2 ... 2 3 3]\n",
      "0.8068536585365854\n",
      "Iteration:  350\n",
      "[7 4 9 ... 2 3 3] [7 8 2 ... 2 3 3]\n",
      "0.8103658536585366\n",
      "Iteration:  360\n",
      "[7 4 9 ... 2 3 3] [7 8 2 ... 2 3 3]\n",
      "0.8132926829268292\n",
      "Iteration:  370\n",
      "[7 4 9 ... 2 3 3] [7 8 2 ... 2 3 3]\n",
      "0.816170731707317\n",
      "Iteration:  380\n",
      "[7 4 9 ... 2 3 3] [7 8 2 ... 2 3 3]\n",
      "0.8185365853658536\n",
      "Iteration:  390\n",
      "[7 4 9 ... 2 3 3] [7 8 2 ... 2 3 3]\n",
      "0.8209024390243902\n",
      "Iteration:  400\n",
      "[7 4 9 ... 2 3 3] [7 8 2 ... 2 3 3]\n",
      "0.823\n",
      "Iteration:  410\n",
      "[7 4 9 ... 2 3 3] [7 8 2 ... 2 3 3]\n",
      "0.8253170731707317\n",
      "Iteration:  420\n",
      "[7 4 9 ... 2 3 3] [7 8 2 ... 2 3 3]\n",
      "0.8276585365853658\n",
      "Iteration:  430\n",
      "[7 4 9 ... 2 3 3] [7 8 2 ... 2 3 3]\n",
      "0.8298048780487804\n",
      "Iteration:  440\n",
      "[7 4 9 ... 2 3 3] [7 8 2 ... 2 3 3]\n",
      "0.8317560975609756\n",
      "Iteration:  450\n",
      "[7 4 9 ... 2 3 3] [7 8 2 ... 2 3 3]\n",
      "0.8336097560975609\n",
      "Iteration:  460\n",
      "[7 4 9 ... 2 3 3] [7 8 2 ... 2 3 3]\n",
      "0.8354146341463414\n",
      "Iteration:  470\n",
      "[7 4 9 ... 2 3 3] [7 8 2 ... 2 3 3]\n",
      "0.8372682926829268\n",
      "Iteration:  480\n",
      "[7 4 9 ... 2 3 3] [7 8 2 ... 2 3 3]\n",
      "0.8387317073170731\n",
      "Iteration:  490\n",
      "[7 4 9 ... 2 3 3] [7 8 2 ... 2 3 3]\n",
      "0.8403658536585366\n"
     ]
    }
   ],
   "source": [
    "W1, b1, W2, b2 = gradient_descent(X_train, Y_train, 0.10, 500)  # Correct order"
   ]
  },
  {
   "cell_type": "code",
   "execution_count": 7,
   "id": "896bc288",
   "metadata": {
    "execution": {
     "iopub.execute_input": "2025-06-22T06:12:21.294005Z",
     "iopub.status.busy": "2025-06-22T06:12:21.293503Z",
     "iopub.status.idle": "2025-06-22T06:12:21.299944Z",
     "shell.execute_reply": "2025-06-22T06:12:21.299185Z"
    },
    "papermill": {
     "duration": 0.01356,
     "end_time": "2025-06-22T06:12:21.301291",
     "exception": false,
     "start_time": "2025-06-22T06:12:21.287731",
     "status": "completed"
    },
    "tags": []
   },
   "outputs": [],
   "source": [
    "def make_predictions(X, W1, b1, W2, b2):\n",
    "    _, _, _, A2 = forward_prop(W1, b1, W2, b2, X)\n",
    "    predictions = get_predictions(A2)\n",
    "    return predictions\n",
    "\n",
    "def test_prediction(index, W1, b1, W2, b2):\n",
    "    current_image = X_train[:, index, None]\n",
    "    prediction = make_predictions(X_train[:, index, None], W1, b1, W2, b2)\n",
    "    label = Y_train[index]\n",
    "    print(\"Prediction: \", prediction)\n",
    "    print(\"Label: \", label)\n",
    "    \n",
    "    current_image = current_image.reshape((28, 28)) * 255\n",
    "    plt.gray()\n",
    "    plt.imshow(current_image, interpolation='nearest')\n",
    "    plt.show()"
   ]
  },
  {
   "cell_type": "code",
   "execution_count": 8,
   "id": "8a11ab4f",
   "metadata": {
    "execution": {
     "iopub.execute_input": "2025-06-22T06:12:21.312048Z",
     "iopub.status.busy": "2025-06-22T06:12:21.311703Z",
     "iopub.status.idle": "2025-06-22T06:12:21.944226Z",
     "shell.execute_reply": "2025-06-22T06:12:21.943255Z"
    },
    "papermill": {
     "duration": 0.639775,
     "end_time": "2025-06-22T06:12:21.945874",
     "exception": false,
     "start_time": "2025-06-22T06:12:21.306099",
     "status": "completed"
    },
    "tags": []
   },
   "outputs": [
    {
     "name": "stdout",
     "output_type": "stream",
     "text": [
      "Prediction:  [7]\n",
      "Label:  7\n"
     ]
    },
    {
     "data": {
      "image/png": "[encoded data removed]",
      "text/plain": [
       "<Figure size 640x480 with 1 Axes>"
      ]
     },
     "metadata": {},
     "output_type": "display_data"
    },
    {
     "name": "stdout",
     "output_type": "stream",
     "text": [
      "Prediction:  [4]\n",
      "Label:  8\n"
     ]
    },
    {
     "data": {
      "image/png": "[encoded data removed]",
      "text/plain": [
       "<Figure size 640x480 with 1 Axes>"
      ]
     },
     "metadata": {},
     "output_type": "display_data"
    },
    {
     "name": "stdout",
     "output_type": "stream",
     "text": [
      "Prediction:  [9]\n",
      "Label:  2\n"
     ]
    },
    {
     "data": {
      "image/png": "[encoded data removed]",
      "text/plain": [
       "<Figure size 640x480 with 1 Axes>"
      ]
     },
     "metadata": {},
     "output_type": "display_data"
    },
    {
     "name": "stdout",
     "output_type": "stream",
     "text": [
      "Prediction:  [1]\n",
      "Label:  1\n"
     ]
    },
    {
     "data": {
      "image/png": "[encoded data removed]",
      "text/plain": [
       "<Figure size 640x480 with 1 Axes>"
      ]
     },
     "metadata": {},
     "output_type": "display_data"
    }
   ],
   "source": [
    "test_prediction(0, W1, b1, W2, b2)\n",
    "test_prediction(1, W1, b1, W2, b2)\n",
    "test_prediction(2, W1, b1, W2, b2)\n",
    "test_prediction(3, W1, b1, W2, b2)"
   ]
  }
 ],
 "metadata": {
  "kaggle": {
   "accelerator": "none",
   "dataSources": [
    {
     "databundleVersionId": 861823,
     "sourceId": 3004,
     "sourceType": "competition"
    }
   ],
   "dockerImageVersionId": 31040,
   "isGpuEnabled": false,
   "isInternetEnabled": false,
   "language": "python",
   "sourceType": "notebook"
  },
  "kernelspec": {
   "display_name": "Python 3",
   "language": "python",
   "name": "python3"
  },
  "language_info": {
   "codemirror_mode": {
    "name": "ipython",
    "version": 3
   },
   "file_extension": ".py",
   "mimetype": "text/x-python",
   "name": "python",
   "nbconvert_exporter": "python",
   "pygments_lexer": "ipython3",
   "version": "3.11.11"
  },
  "papermill": {
   "default_parameters": {},
   "duration": 48.077381,
   "end_time": "2025-06-22T06:12:22.470659",
   "environment_variables": {},
   "exception": null,
   "input_path": "__notebook__.ipynb",
   "output_path": "__notebook__.ipynb",
   "parameters": {},
   "start_time": "2025-06-22T06:11:34.393278",
   "version": "2.6.0"
  }
 },
 "nbformat": 4,
 "nbformat_minor": 5
}
